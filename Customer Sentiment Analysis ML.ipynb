{
 "cells": [
  {
   "cell_type": "code",
   "execution_count": 28,
   "metadata": {
    "id": "BiBkjJhwkoAw"
   },
   "outputs": [],
   "source": [
    "import pandas as pd\n",
    "import seaborn as sns\n",
    "import matplotlib.pyplot as plt\n",
    "df = pd.read_csv(\"iphone15_flipkart_reviews.csv\")"
   ]
  },
  {
   "cell_type": "code",
   "execution_count": 29,
   "metadata": {
    "id": "i3FIBLkmknpm"
   },
   "outputs": [],
   "source": [
    "df['Name'] = df['Name'].astype(str).str.title()"
   ]
  },
  {
   "cell_type": "code",
   "execution_count": 30,
   "metadata": {
    "id": "GDUWqaA5kxhS"
   },
   "outputs": [],
   "source": [
    "df['Review'] = df['Review'].str.replace(\"READ MORE\", \"\", case=False)"
   ]
  },
  {
   "cell_type": "code",
   "execution_count": 31,
   "metadata": {
    "colab": {
     "base_uri": "https://localhost:8080/",
     "height": 423
    },
    "id": "Ms5tQOj-kxV5",
    "outputId": "369bb10f-1c5f-48c4-f16f-be721b84cf3d"
   },
   "outputs": [
    {
     "data": {
      "text/html": [
       "<div>\n",
       "<style scoped>\n",
       "    .dataframe tbody tr th:only-of-type {\n",
       "        vertical-align: middle;\n",
       "    }\n",
       "\n",
       "    .dataframe tbody tr th {\n",
       "        vertical-align: top;\n",
       "    }\n",
       "\n",
       "    .dataframe thead th {\n",
       "        text-align: right;\n",
       "    }\n",
       "</style>\n",
       "<table border=\"1\" class=\"dataframe\">\n",
       "  <thead>\n",
       "    <tr style=\"text-align: right;\">\n",
       "      <th></th>\n",
       "      <th>Name</th>\n",
       "      <th>Rating</th>\n",
       "      <th>Review</th>\n",
       "    </tr>\n",
       "  </thead>\n",
       "  <tbody>\n",
       "    <tr>\n",
       "      <th>0</th>\n",
       "      <td>Thakur Surya Pratap Singh</td>\n",
       "      <td>5</td>\n",
       "      <td>Awesome 😎</td>\n",
       "    </tr>\n",
       "    <tr>\n",
       "      <th>1</th>\n",
       "      <td>Bijaya Mohanty</td>\n",
       "      <td>5</td>\n",
       "      <td>Just go for it.Amazing one.Beautiful camera wi...</td>\n",
       "    </tr>\n",
       "    <tr>\n",
       "      <th>2</th>\n",
       "      <td>Rishabh  Jha</td>\n",
       "      <td>5</td>\n",
       "      <td>Awesome 🔥🔥☺️</td>\n",
       "    </tr>\n",
       "    <tr>\n",
       "      <th>3</th>\n",
       "      <td>Ajin V</td>\n",
       "      <td>5</td>\n",
       "      <td>High quality camera😍</td>\n",
       "    </tr>\n",
       "    <tr>\n",
       "      <th>4</th>\n",
       "      <td>Nikhil Kumar</td>\n",
       "      <td>5</td>\n",
       "      <td>Switch from OnePlus to iPhone I am stunned wit...</td>\n",
       "    </tr>\n",
       "  </tbody>\n",
       "</table>\n",
       "</div>"
      ],
      "text/plain": [
       "                        Name  Rating  \\\n",
       "0  Thakur Surya Pratap Singh       5   \n",
       "1             Bijaya Mohanty       5   \n",
       "2               Rishabh  Jha       5   \n",
       "3                     Ajin V       5   \n",
       "4               Nikhil Kumar       5   \n",
       "\n",
       "                                              Review  \n",
       "0                                          Awesome 😎  \n",
       "1  Just go for it.Amazing one.Beautiful camera wi...  \n",
       "2                                       Awesome 🔥🔥☺️  \n",
       "3                               High quality camera😍  \n",
       "4  Switch from OnePlus to iPhone I am stunned wit...  "
      ]
     },
     "execution_count": 31,
     "metadata": {},
     "output_type": "execute_result"
    }
   ],
   "source": [
    "df.head()"
   ]
  },
  {
   "cell_type": "code",
   "execution_count": 32,
   "metadata": {
    "id": "8wJqM0GYlEpo"
   },
   "outputs": [],
   "source": [
    "import re\n",
    "\n",
    "def split_into_sentences(text):\n",
    "    if not isinstance(text, str):\n",
    "        return []\n",
    "    return re.findall(r'[^.!?]+(?:[.!?]|$)', text)"
   ]
  },
  {
   "cell_type": "code",
   "execution_count": 33,
   "metadata": {
    "id": "iYd1u4CRltxS"
   },
   "outputs": [],
   "source": [
    "df['Review1'] = df['Review'].apply(split_into_sentences)"
   ]
  },
  {
   "cell_type": "code",
   "execution_count": 34,
   "metadata": {
    "colab": {
     "base_uri": "https://localhost:8080/",
     "height": 423
    },
    "id": "kmjkhKyhl37P",
    "outputId": "11ceb4c4-4986-4b7d-a864-3fd7bf86de81"
   },
   "outputs": [
    {
     "data": {
      "text/html": [
       "<div>\n",
       "<style scoped>\n",
       "    .dataframe tbody tr th:only-of-type {\n",
       "        vertical-align: middle;\n",
       "    }\n",
       "\n",
       "    .dataframe tbody tr th {\n",
       "        vertical-align: top;\n",
       "    }\n",
       "\n",
       "    .dataframe thead th {\n",
       "        text-align: right;\n",
       "    }\n",
       "</style>\n",
       "<table border=\"1\" class=\"dataframe\">\n",
       "  <thead>\n",
       "    <tr style=\"text-align: right;\">\n",
       "      <th></th>\n",
       "      <th>Name</th>\n",
       "      <th>Rating</th>\n",
       "      <th>Review</th>\n",
       "      <th>Review1</th>\n",
       "    </tr>\n",
       "  </thead>\n",
       "  <tbody>\n",
       "    <tr>\n",
       "      <th>0</th>\n",
       "      <td>Thakur Surya Pratap Singh</td>\n",
       "      <td>5</td>\n",
       "      <td>Awesome 😎</td>\n",
       "      <td>[Awesome 😎]</td>\n",
       "    </tr>\n",
       "    <tr>\n",
       "      <th>1</th>\n",
       "      <td>Bijaya Mohanty</td>\n",
       "      <td>5</td>\n",
       "      <td>Just go for it.Amazing one.Beautiful camera wi...</td>\n",
       "      <td>[Just go for it., Amazing one., Beautiful came...</td>\n",
       "    </tr>\n",
       "    <tr>\n",
       "      <th>2</th>\n",
       "      <td>Rishabh  Jha</td>\n",
       "      <td>5</td>\n",
       "      <td>Awesome 🔥🔥☺️</td>\n",
       "      <td>[Awesome 🔥🔥☺️]</td>\n",
       "    </tr>\n",
       "    <tr>\n",
       "      <th>3</th>\n",
       "      <td>Ajin V</td>\n",
       "      <td>5</td>\n",
       "      <td>High quality camera😍</td>\n",
       "      <td>[High quality camera😍]</td>\n",
       "    </tr>\n",
       "    <tr>\n",
       "      <th>4</th>\n",
       "      <td>Nikhil Kumar</td>\n",
       "      <td>5</td>\n",
       "      <td>Switch from OnePlus to iPhone I am stunned wit...</td>\n",
       "      <td>[Switch from OnePlus to iPhone I am stunned wi...</td>\n",
       "    </tr>\n",
       "  </tbody>\n",
       "</table>\n",
       "</div>"
      ],
      "text/plain": [
       "                        Name  Rating  \\\n",
       "0  Thakur Surya Pratap Singh       5   \n",
       "1             Bijaya Mohanty       5   \n",
       "2               Rishabh  Jha       5   \n",
       "3                     Ajin V       5   \n",
       "4               Nikhil Kumar       5   \n",
       "\n",
       "                                              Review  \\\n",
       "0                                          Awesome 😎   \n",
       "1  Just go for it.Amazing one.Beautiful camera wi...   \n",
       "2                                       Awesome 🔥🔥☺️   \n",
       "3                               High quality camera😍   \n",
       "4  Switch from OnePlus to iPhone I am stunned wit...   \n",
       "\n",
       "                                             Review1  \n",
       "0                                        [Awesome 😎]  \n",
       "1  [Just go for it., Amazing one., Beautiful came...  \n",
       "2                                     [Awesome 🔥🔥☺️]  \n",
       "3                             [High quality camera😍]  \n",
       "4  [Switch from OnePlus to iPhone I am stunned wi...  "
      ]
     },
     "execution_count": 34,
     "metadata": {},
     "output_type": "execute_result"
    }
   ],
   "source": [
    "df.head()"
   ]
  },
  {
   "cell_type": "code",
   "execution_count": 35,
   "metadata": {
    "id": "21LL_vv5v_Bp"
   },
   "outputs": [],
   "source": [
    "from textblob import TextBlob\n",
    "\n",
    "# Assuming split_into_sentences is defined elsewhere and returns a list of sentences\n",
    "df['Review1'] = df['Review'].apply(split_into_sentences)\n",
    "\n",
    "def classify_sentiment(polarity, threshold=0.1):\n",
    "    if polarity >= threshold:\n",
    "        return 'Positive'\n",
    "    else:\n",
    "        return 'Negative'"
   ]
  },
  {
   "cell_type": "code",
   "execution_count": 36,
   "metadata": {
    "id": "4sSwmviC2-SE"
   },
   "outputs": [],
   "source": [
    "# Calculate polarity and subjectivity on the whole review\n",
    "df['Polarity'] = df['Review'].apply(lambda x: TextBlob(x).sentiment.polarity)\n",
    "df['Subjectivity'] = df['Review'].apply(lambda x: TextBlob(x).sentiment.subjectivity)"
   ]
  },
  {
   "cell_type": "code",
   "execution_count": 37,
   "metadata": {
    "id": "zpmKxQ6G3Lbn"
   },
   "outputs": [],
   "source": [
    "# Classify sentiment based on polarity\n",
    "df['Sentiment'] = df['Polarity'].apply(classify_sentiment)"
   ]
  },
  {
   "cell_type": "code",
   "execution_count": 38,
   "metadata": {
    "colab": {
     "base_uri": "https://localhost:8080/",
     "height": 206
    },
    "id": "HIsnb2CC3OAT",
    "outputId": "f802d0c3-d017-400f-f58a-5e8fd0ce9404"
   },
   "outputs": [
    {
     "data": {
      "text/html": [
       "<div>\n",
       "<style scoped>\n",
       "    .dataframe tbody tr th:only-of-type {\n",
       "        vertical-align: middle;\n",
       "    }\n",
       "\n",
       "    .dataframe tbody tr th {\n",
       "        vertical-align: top;\n",
       "    }\n",
       "\n",
       "    .dataframe thead th {\n",
       "        text-align: right;\n",
       "    }\n",
       "</style>\n",
       "<table border=\"1\" class=\"dataframe\">\n",
       "  <thead>\n",
       "    <tr style=\"text-align: right;\">\n",
       "      <th></th>\n",
       "      <th>Review</th>\n",
       "      <th>Polarity</th>\n",
       "      <th>Subjectivity</th>\n",
       "      <th>Sentiment</th>\n",
       "    </tr>\n",
       "  </thead>\n",
       "  <tbody>\n",
       "    <tr>\n",
       "      <th>0</th>\n",
       "      <td>Awesome 😎</td>\n",
       "      <td>1.000000</td>\n",
       "      <td>1.000000</td>\n",
       "      <td>Positive</td>\n",
       "    </tr>\n",
       "    <tr>\n",
       "      <th>1</th>\n",
       "      <td>Just go for it.Amazing one.Beautiful camera wi...</td>\n",
       "      <td>0.266667</td>\n",
       "      <td>0.633333</td>\n",
       "      <td>Positive</td>\n",
       "    </tr>\n",
       "    <tr>\n",
       "      <th>2</th>\n",
       "      <td>Awesome 🔥🔥☺️</td>\n",
       "      <td>1.000000</td>\n",
       "      <td>1.000000</td>\n",
       "      <td>Positive</td>\n",
       "    </tr>\n",
       "    <tr>\n",
       "      <th>3</th>\n",
       "      <td>High quality camera😍</td>\n",
       "      <td>0.160000</td>\n",
       "      <td>0.540000</td>\n",
       "      <td>Positive</td>\n",
       "    </tr>\n",
       "    <tr>\n",
       "      <th>4</th>\n",
       "      <td>Switch from OnePlus to iPhone I am stunned wit...</td>\n",
       "      <td>1.000000</td>\n",
       "      <td>1.000000</td>\n",
       "      <td>Positive</td>\n",
       "    </tr>\n",
       "  </tbody>\n",
       "</table>\n",
       "</div>"
      ],
      "text/plain": [
       "                                              Review  Polarity  Subjectivity  \\\n",
       "0                                          Awesome 😎  1.000000      1.000000   \n",
       "1  Just go for it.Amazing one.Beautiful camera wi...  0.266667      0.633333   \n",
       "2                                       Awesome 🔥🔥☺️  1.000000      1.000000   \n",
       "3                               High quality camera😍  0.160000      0.540000   \n",
       "4  Switch from OnePlus to iPhone I am stunned wit...  1.000000      1.000000   \n",
       "\n",
       "  Sentiment  \n",
       "0  Positive  \n",
       "1  Positive  \n",
       "2  Positive  \n",
       "3  Positive  \n",
       "4  Positive  "
      ]
     },
     "execution_count": 38,
     "metadata": {},
     "output_type": "execute_result"
    }
   ],
   "source": [
    "# Print the first 5 rows showing relevant columns\n",
    "df[['Review', 'Polarity', 'Subjectivity', 'Sentiment']].head()\n"
   ]
  },
  {
   "cell_type": "code",
   "execution_count": 39,
   "metadata": {
    "colab": {
     "base_uri": "https://localhost:8080/",
     "height": 559
    },
    "id": "9Ef2z6L43TQo",
    "outputId": "0f7ee19e-02e7-4a12-e598-538a546a9e90"
   },
   "outputs": [
    {
     "name": "stderr",
     "output_type": "stream",
     "text": [
      "C:\\Users\\wasim\\AppData\\Local\\Temp\\ipykernel_15696\\59483337.py:1: FutureWarning: \n",
      "\n",
      "Passing `palette` without assigning `hue` is deprecated and will be removed in v0.14.0. Assign the `x` variable to `hue` and set `legend=False` for the same effect.\n",
      "\n",
      "  sns.countplot(x='Sentiment', data=df, palette='Set2')\n"
     ]
    },
    {
     "data": {
      "image/png": "[encoded data removed]",
      "text/plain": [
       "<Figure size 640x480 with 1 Axes>"
      ]
     },
     "metadata": {},
     "output_type": "display_data"
    }
   ],
   "source": [
    "sns.countplot(x='Sentiment', data=df, palette='Set2')\n",
    "plt.title('Distribution of Sentiment in Reviews')\n",
    "plt.xlabel('Sentiment')\n",
    "plt.ylabel('Number of Reviews')\n",
    "plt.show()"
   ]
  }
 ],
 "metadata": {
  "colab": {
   "provenance": []
  },
  "kernelspec": {
   "display_name": "Python 3 (ipykernel)",
   "language": "python",
   "name": "python3"
  },
  "language_info": {
   "codemirror_mode": {
    "name": "ipython",
    "version": 3
   },
   "file_extension": ".py",
   "mimetype": "text/x-python",
   "name": "python",
   "nbconvert_exporter": "python",
   "pygments_lexer": "ipython3",
   "version": "3.13.5"
  }
 },
 "nbformat": 4,
 "nbformat_minor": 4
}
